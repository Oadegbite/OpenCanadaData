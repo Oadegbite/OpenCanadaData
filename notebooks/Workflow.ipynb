{
 "cells": [
  {
   "cell_type": "markdown",
   "metadata": {},
   "source": [
    "## Workflow"
   ]
  },
  {
   "cell_type": "code",
   "execution_count": 6,
   "metadata": {},
   "outputs": [],
   "source": [
    "%run relativepath.py\n",
    "from canadadata.statscan import StatscanZip\n",
    "%run displayoptions.py"
   ]
  },
  {
   "cell_type": "code",
   "execution_count": 7,
   "metadata": {},
   "outputs": [
    {
     "name": "stderr",
     "output_type": "stream",
     "text": [
      "[2019-03-29 22:29:27,081] INFO - prefect.FlowRunner | Beginning Flow run for 'ETL'\n",
      "[2019-03-29 22:29:27,083] INFO - prefect.FlowRunner | Starting flow run.\n",
      "[2019-03-29 22:29:27,083] DEBUG - prefect.FlowRunner | Flow 'ETL': Handling state change from Scheduled to Running\n",
      "[2019-03-29 22:29:27,087] INFO - prefect.TaskRunner | Task 'download_prices': Starting task run...\n",
      "[2019-03-29 22:29:27,088] DEBUG - prefect.TaskRunner | Task 'download_prices': Handling state change from Pending to Running\n",
      "[2019-03-29 22:29:27,090] DEBUG - prefect.TaskRunner | Task 'download_prices': Calling task.run() method...\n",
      "[2019-03-29 22:29:27,193] DEBUG - prefect.TaskRunner | Task 'download_prices': Handling state change from Running to Success\n",
      "[2019-03-29 22:29:27,193] INFO - prefect.TaskRunner | Task 'download_prices': finished task run for task with final state: 'Success'\n",
      "[2019-03-29 22:29:27,194] INFO - prefect.TaskRunner | Task 'save_prices': Starting task run...\n",
      "[2019-03-29 22:29:27,195] DEBUG - prefect.TaskRunner | Task 'save_prices': Handling state change from Pending to Running\n",
      "[2019-03-29 22:29:27,197] DEBUG - prefect.TaskRunner | Task 'save_prices': Calling task.run() method...\n",
      "[2019-03-29 22:29:27,220] DEBUG - prefect.TaskRunner | Task 'save_prices': Handling state change from Running to Success\n",
      "[2019-03-29 22:29:27,221] INFO - prefect.TaskRunner | Task 'save_prices': finished task run for task with final state: 'Success'\n",
      "[2019-03-29 22:29:27,222] INFO - prefect.TaskRunner | Task 'chart_retail_prices': Starting task run...\n",
      "[2019-03-29 22:29:27,224] DEBUG - prefect.TaskRunner | Task 'chart_retail_prices': Handling state change from Pending to Running\n",
      "[2019-03-29 22:29:27,225] DEBUG - prefect.TaskRunner | Task 'chart_retail_prices': Calling task.run() method...\n",
      "[2019-03-29 22:29:27,234] DEBUG - prefect.TaskRunner | Task 'chart_retail_prices': Handling state change from Running to Success\n",
      "[2019-03-29 22:29:27,235] INFO - prefect.TaskRunner | Task 'chart_retail_prices': finished task run for task with final state: 'Success'\n",
      "[2019-03-29 22:29:27,236] INFO - prefect.FlowRunner | Flow run SUCCESS: all reference tasks succeeded\n",
      "[2019-03-29 22:29:27,237] DEBUG - prefect.FlowRunner | Flow 'ETL': Handling state change from Running to Success\n"
     ]
    },
    {
     "name": "stdout",
     "output_type": "stream",
     "text": [
      "Received y: 129\n"
     ]
    }
   ],
   "source": [
    "%run prices_workflow.py"
   ]
  },
  {
   "cell_type": "code",
   "execution_count": null,
   "metadata": {},
   "outputs": [],
   "source": []
  }
 ],
 "metadata": {
  "kernelspec": {
   "display_name": "Python 3",
   "language": "python",
   "name": "python3"
  },
  "language_info": {
   "codemirror_mode": {
    "name": "ipython",
    "version": 3
   },
   "file_extension": ".py",
   "mimetype": "text/x-python",
   "name": "python",
   "nbconvert_exporter": "python",
   "pygments_lexer": "ipython3",
   "version": "3.7.0"
  }
 },
 "nbformat": 4,
 "nbformat_minor": 2
}
