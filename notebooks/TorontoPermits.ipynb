{
 "cells": [
  {
   "cell_type": "code",
   "execution_count": null,
   "metadata": {
    "collapsed": true
   },
   "outputs": [],
   "source": [
    "import pandas as pd\n",
    "\n",
    "permits = pd.read_csv('http://opendata.toronto.ca/building/active.permits/activepermits_csv.zip')\n",
    "permits"
   ]
  }
 ],
 "metadata": {
  "kernelspec": {
   "display_name": "canadadataml",
   "language": "python",
   "name": "canadadata"
  },
  "language_info": {
   "codemirror_mode": {
    "name": "ipython",
    "version": 3
   },
   "file_extension": ".py",
   "mimetype": "text/x-python",
   "name": "python",
   "nbconvert_exporter": "python",
   "pygments_lexer": "ipython3",
   "version": "3.7.0"
  }
 },
 "nbformat": 4,
 "nbformat_minor": 2
}
