{
 "cells": [
  {
   "cell_type": "markdown",
   "metadata": {},
   "source": [
    "# Rail Performance"
   ]
  },
  {
   "cell_type": "code",
   "execution_count": 1,
   "metadata": {},
   "outputs": [
    {
     "name": "stderr",
     "output_type": "stream",
     "text": [
      "2019-04-17 21:17:48,025 Property \"cache_dir\" set to data\n"
     ]
    }
   ],
   "source": [
    "%load_ext autoreload\n",
    "%autoreload 2\n",
    "\n",
    "%run relativepath.py\n",
    "%run commonimports.py\n",
    "%run displayoptions.py\n",
    "%matplotlib inline"
   ]
  },
  {
   "cell_type": "code",
   "execution_count": 2,
   "metadata": {},
   "outputs": [],
   "source": [
    "from IPython.display import HTML, display"
   ]
  },
  {
   "cell_type": "markdown",
   "metadata": {},
   "source": [
    "## Load Rail Data"
   ]
  },
  {
   "cell_type": "code",
   "execution_count": 3,
   "metadata": {},
   "outputs": [
    {
     "name": "stderr",
     "output_type": "stream",
     "text": [
      "2019-04-17 21:17:50,020 Reading file data\\23100274.csv\n"
     ]
    }
   ],
   "source": [
    "RAIL_DATASET_URL ='https://www150.statcan.gc.ca/n1/tbl/csv/23100274-eng.zip'\n",
    "dataset = StatscanZip(RAIL_DATASET_URL)\n",
    "rail_df = dataset.get_data()"
   ]
  },
  {
   "cell_type": "code",
   "execution_count": 4,
   "metadata": {},
   "outputs": [
    {
     "data": {
      "text/html": [
       "<div>\n",
       "<style scoped>\n",
       "    .dataframe tbody tr th:only-of-type {\n",
       "        vertical-align: middle;\n",
       "    }\n",
       "\n",
       "    .dataframe tbody tr th {\n",
       "        vertical-align: top;\n",
       "    }\n",
       "\n",
       "    .dataframe thead th {\n",
       "        text-align: right;\n",
       "    }\n",
       "</style>\n",
       "<table border=\"1\" class=\"dataframe\">\n",
       "  <thead>\n",
       "    <tr style=\"text-align: right;\">\n",
       "      <th></th>\n",
       "      <th>REF_DATE</th>\n",
       "      <th>GEO</th>\n",
       "      <th>Companies</th>\n",
       "      <th>Terminal dwell-time</th>\n",
       "    </tr>\n",
       "  </thead>\n",
       "  <tbody>\n",
       "    <tr>\n",
       "      <th>0</th>\n",
       "      <td>2018-11-24</td>\n",
       "      <td>Canada</td>\n",
       "      <td>Canadian National, System-wide</td>\n",
       "      <td>18.6</td>\n",
       "    </tr>\n",
       "    <tr>\n",
       "      <th>1</th>\n",
       "      <td>2018-11-24</td>\n",
       "      <td>Canada</td>\n",
       "      <td>Canadian National, Edmonton terminal, Alberta</td>\n",
       "      <td>9.6</td>\n",
       "    </tr>\n",
       "    <tr>\n",
       "      <th>2</th>\n",
       "      <td>2018-11-24</td>\n",
       "      <td>Canada</td>\n",
       "      <td>Canadian National, Vancouver terminal, British Columbia</td>\n",
       "      <td>22.8</td>\n",
       "    </tr>\n",
       "    <tr>\n",
       "      <th>3</th>\n",
       "      <td>2018-11-24</td>\n",
       "      <td>Canada</td>\n",
       "      <td>Canadian National, Winnipeg terminal, Manitoba</td>\n",
       "      <td>13.5</td>\n",
       "    </tr>\n",
       "    <tr>\n",
       "      <th>4</th>\n",
       "      <td>2018-11-24</td>\n",
       "      <td>Canada</td>\n",
       "      <td>Canadian National, MacMilllan yard, Ontario</td>\n",
       "      <td>18.8</td>\n",
       "    </tr>\n",
       "  </tbody>\n",
       "</table>\n",
       "</div>"
      ],
      "text/plain": [
       "     REF_DATE     GEO  \\\n",
       "0  2018-11-24  Canada   \n",
       "1  2018-11-24  Canada   \n",
       "2  2018-11-24  Canada   \n",
       "3  2018-11-24  Canada   \n",
       "4  2018-11-24  Canada   \n",
       "\n",
       "                                                  Companies  \\\n",
       "0                            Canadian National, System-wide   \n",
       "1            Canadian National, Edmonton terminal, Alberta    \n",
       "2  Canadian National, Vancouver terminal, British Columbia    \n",
       "3           Canadian National, Winnipeg terminal, Manitoba    \n",
       "4              Canadian National, MacMilllan yard, Ontario    \n",
       "\n",
       "   Terminal dwell-time  \n",
       "0                 18.6  \n",
       "1                  9.6  \n",
       "2                 22.8  \n",
       "3                 13.5  \n",
       "4                 18.8  "
      ]
     },
     "execution_count": 4,
     "metadata": {},
     "output_type": "execute_result"
    }
   ],
   "source": [
    "rail_df.head()"
   ]
  },
  {
   "cell_type": "code",
   "execution_count": 5,
   "metadata": {},
   "outputs": [
    {
     "data": {
      "text/html": [
       "<div>\n",
       "<style scoped>\n",
       "    .dataframe tbody tr th:only-of-type {\n",
       "        vertical-align: middle;\n",
       "    }\n",
       "\n",
       "    .dataframe tbody tr th {\n",
       "        vertical-align: top;\n",
       "    }\n",
       "\n",
       "    .dataframe thead th {\n",
       "        text-align: right;\n",
       "    }\n",
       "</style>\n",
       "<table border=\"1\" class=\"dataframe\">\n",
       "  <thead>\n",
       "    <tr style=\"text-align: right;\">\n",
       "      <th>Cube Title</th>\n",
       "      <th>Weekly rail terminal performance indicator, Transport Canada</th>\n",
       "    </tr>\n",
       "  </thead>\n",
       "  <tbody>\n",
       "    <tr>\n",
       "      <th>Product Id</th>\n",
       "      <td>23100274</td>\n",
       "    </tr>\n",
       "    <tr>\n",
       "      <th>CANSIM Id</th>\n",
       "      <td>NaN</td>\n",
       "    </tr>\n",
       "    <tr>\n",
       "      <th>URL</th>\n",
       "      <td>https://www150.statcan.gc.ca/t1/tbl1/en/tv.action?pid=2310027401</td>\n",
       "    </tr>\n",
       "    <tr>\n",
       "      <th>Cube Notes</th>\n",
       "      <td>1</td>\n",
       "    </tr>\n",
       "    <tr>\n",
       "      <th>Archive Status</th>\n",
       "      <td>CURRENT - a cube available to the public and that is current</td>\n",
       "    </tr>\n",
       "    <tr>\n",
       "      <th>Frequency</th>\n",
       "      <td>Weekly</td>\n",
       "    </tr>\n",
       "    <tr>\n",
       "      <th>Start Reference Period</th>\n",
       "      <td>2018-11-24</td>\n",
       "    </tr>\n",
       "    <tr>\n",
       "      <th>End Reference Period</th>\n",
       "      <td>2019-03-30</td>\n",
       "    </tr>\n",
       "    <tr>\n",
       "      <th>Total number of dimensions</th>\n",
       "      <td>3</td>\n",
       "    </tr>\n",
       "  </tbody>\n",
       "</table>\n",
       "</div>"
      ],
      "text/plain": [
       "Cube Title                      Weekly rail terminal performance indicator, Transport Canada\n",
       "Product Id                                                                          23100274\n",
       "CANSIM Id                                                                                NaN\n",
       "URL                         https://www150.statcan.gc.ca/t1/tbl1/en/tv.action?pid=2310027401\n",
       "Cube Notes                                                                                 1\n",
       "Archive Status                  CURRENT - a cube available to the public and that is current\n",
       "Frequency                                                                             Weekly\n",
       "Start Reference Period                                                            2018-11-24\n",
       "End Reference Period                                                              2019-03-30\n",
       "Total number of dimensions                                                                 3"
      ]
     },
     "execution_count": 5,
     "metadata": {},
     "output_type": "execute_result"
    }
   ],
   "source": [
    "dataset.get_metadata().cube_info.T"
   ]
  },
  {
   "cell_type": "markdown",
   "metadata": {},
   "source": [
    "## Extract Locations"
   ]
  },
  {
   "cell_type": "code",
   "execution_count": 6,
   "metadata": {},
   "outputs": [],
   "source": [
    "location_columns = rail_df.Companies.str.extract(r'([^,]*), ([^,]*),? ?([^,]*)?',)\n",
    "location_columns.columns = ['Company', 'Location','Province']"
   ]
  },
  {
   "cell_type": "code",
   "execution_count": 7,
   "metadata": {},
   "outputs": [],
   "source": [
    "rail_data = pd.concat([rail_df, location_columns], axis=1).drop(columns=['GEO','Companies']).set_index('REF_DATE').dropna(subset=['Terminal dwell-time'])"
   ]
  },
  {
   "cell_type": "code",
   "execution_count": 8,
   "metadata": {},
   "outputs": [
    {
     "data": {
      "text/html": [
       "<div>\n",
       "<style scoped>\n",
       "    .dataframe tbody tr th:only-of-type {\n",
       "        vertical-align: middle;\n",
       "    }\n",
       "\n",
       "    .dataframe tbody tr th {\n",
       "        vertical-align: top;\n",
       "    }\n",
       "\n",
       "    .dataframe thead th {\n",
       "        text-align: right;\n",
       "    }\n",
       "</style>\n",
       "<table border=\"1\" class=\"dataframe\">\n",
       "  <thead>\n",
       "    <tr style=\"text-align: right;\">\n",
       "      <th></th>\n",
       "      <th>Terminal dwell-time</th>\n",
       "      <th>Company</th>\n",
       "      <th>Location</th>\n",
       "      <th>Province</th>\n",
       "    </tr>\n",
       "    <tr>\n",
       "      <th>REF_DATE</th>\n",
       "      <th></th>\n",
       "      <th></th>\n",
       "      <th></th>\n",
       "      <th></th>\n",
       "    </tr>\n",
       "  </thead>\n",
       "  <tbody>\n",
       "    <tr>\n",
       "      <th>2018-11-24</th>\n",
       "      <td>18.6</td>\n",
       "      <td>Canadian National</td>\n",
       "      <td>System-wide</td>\n",
       "      <td></td>\n",
       "    </tr>\n",
       "    <tr>\n",
       "      <th>2018-11-24</th>\n",
       "      <td>9.6</td>\n",
       "      <td>Canadian National</td>\n",
       "      <td>Edmonton terminal</td>\n",
       "      <td>Alberta</td>\n",
       "    </tr>\n",
       "    <tr>\n",
       "      <th>2018-11-24</th>\n",
       "      <td>22.8</td>\n",
       "      <td>Canadian National</td>\n",
       "      <td>Vancouver terminal</td>\n",
       "      <td>British Columbia</td>\n",
       "    </tr>\n",
       "    <tr>\n",
       "      <th>2018-11-24</th>\n",
       "      <td>13.5</td>\n",
       "      <td>Canadian National</td>\n",
       "      <td>Winnipeg terminal</td>\n",
       "      <td>Manitoba</td>\n",
       "    </tr>\n",
       "    <tr>\n",
       "      <th>2018-11-24</th>\n",
       "      <td>18.8</td>\n",
       "      <td>Canadian National</td>\n",
       "      <td>MacMilllan yard</td>\n",
       "      <td>Ontario</td>\n",
       "    </tr>\n",
       "    <tr>\n",
       "      <th>2018-11-24</th>\n",
       "      <td>6.8</td>\n",
       "      <td>Canadian National</td>\n",
       "      <td>Taschereau yard</td>\n",
       "      <td>Quebec</td>\n",
       "    </tr>\n",
       "    <tr>\n",
       "      <th>2018-11-24</th>\n",
       "      <td>22.2</td>\n",
       "      <td>Canadian National</td>\n",
       "      <td>Prince George yard</td>\n",
       "      <td>British Columbia</td>\n",
       "    </tr>\n",
       "    <tr>\n",
       "      <th>2018-11-24</th>\n",
       "      <td>17.8</td>\n",
       "      <td>Canadian National</td>\n",
       "      <td>Saskatoon yard</td>\n",
       "      <td>Saskatchewan</td>\n",
       "    </tr>\n",
       "    <tr>\n",
       "      <th>2018-11-24</th>\n",
       "      <td>20.7</td>\n",
       "      <td>Canadian National</td>\n",
       "      <td>Brampton intermodal</td>\n",
       "      <td>Ontario</td>\n",
       "    </tr>\n",
       "    <tr>\n",
       "      <th>2018-11-24</th>\n",
       "      <td>15.0</td>\n",
       "      <td>Canadian National</td>\n",
       "      <td>Scotford</td>\n",
       "      <td>Alberta</td>\n",
       "    </tr>\n",
       "  </tbody>\n",
       "</table>\n",
       "</div>"
      ],
      "text/plain": [
       "            Terminal dwell-time            Company             Location  \\\n",
       "REF_DATE                                                                  \n",
       "2018-11-24                 18.6  Canadian National          System-wide   \n",
       "2018-11-24                  9.6  Canadian National    Edmonton terminal   \n",
       "2018-11-24                 22.8  Canadian National   Vancouver terminal   \n",
       "2018-11-24                 13.5  Canadian National    Winnipeg terminal   \n",
       "2018-11-24                 18.8  Canadian National      MacMilllan yard   \n",
       "2018-11-24                  6.8  Canadian National      Taschereau yard   \n",
       "2018-11-24                 22.2  Canadian National   Prince George yard   \n",
       "2018-11-24                 17.8  Canadian National       Saskatoon yard   \n",
       "2018-11-24                 20.7  Canadian National  Brampton intermodal   \n",
       "2018-11-24                 15.0  Canadian National             Scotford   \n",
       "\n",
       "                     Province  \n",
       "REF_DATE                       \n",
       "2018-11-24                     \n",
       "2018-11-24           Alberta   \n",
       "2018-11-24  British Columbia   \n",
       "2018-11-24          Manitoba   \n",
       "2018-11-24           Ontario   \n",
       "2018-11-24            Quebec   \n",
       "2018-11-24  British Columbia   \n",
       "2018-11-24      Saskatchewan   \n",
       "2018-11-24           Ontario   \n",
       "2018-11-24           Alberta   "
      ]
     },
     "execution_count": 8,
     "metadata": {},
     "output_type": "execute_result"
    }
   ],
   "source": [
    "rail_data.head(10)"
   ]
  },
  {
   "cell_type": "markdown",
   "metadata": {},
   "source": [
    "## System Wide"
   ]
  },
  {
   "cell_type": "code",
   "execution_count": 9,
   "metadata": {},
   "outputs": [],
   "source": [
    "rail_system_wide = rail_data.query(\"Location=='System-wide'\").drop(columns='Province')"
   ]
  },
  {
   "cell_type": "code",
   "execution_count": 17,
   "metadata": {},
   "outputs": [
    {
     "data": {
      "text/html": [
       "<div>\n",
       "<style scoped>\n",
       "    .dataframe tbody tr th:only-of-type {\n",
       "        vertical-align: middle;\n",
       "    }\n",
       "\n",
       "    .dataframe tbody tr th {\n",
       "        vertical-align: top;\n",
       "    }\n",
       "\n",
       "    .dataframe thead th {\n",
       "        text-align: right;\n",
       "    }\n",
       "</style>\n",
       "<table border=\"1\" class=\"dataframe\">\n",
       "  <thead>\n",
       "    <tr style=\"text-align: right;\">\n",
       "      <th></th>\n",
       "      <th>Terminal dwell-time</th>\n",
       "      <th>Company</th>\n",
       "      <th>Location</th>\n",
       "    </tr>\n",
       "    <tr>\n",
       "      <th>REF_DATE</th>\n",
       "      <th></th>\n",
       "      <th></th>\n",
       "      <th></th>\n",
       "    </tr>\n",
       "  </thead>\n",
       "  <tbody>\n",
       "    <tr>\n",
       "      <th>2018-11-24</th>\n",
       "      <td>18.6</td>\n",
       "      <td>Canadian National</td>\n",
       "      <td>System-wide</td>\n",
       "    </tr>\n",
       "    <tr>\n",
       "      <th>2018-11-24</th>\n",
       "      <td>15.9</td>\n",
       "      <td>Canadian Pacific</td>\n",
       "      <td>System-wide</td>\n",
       "    </tr>\n",
       "    <tr>\n",
       "      <th>2018-11-24</th>\n",
       "      <td>15.0</td>\n",
       "      <td>Burlington Northern Santa Fe</td>\n",
       "      <td>System-wide</td>\n",
       "    </tr>\n",
       "    <tr>\n",
       "      <th>2018-12-01</th>\n",
       "      <td>19.4</td>\n",
       "      <td>Canadian National</td>\n",
       "      <td>System-wide</td>\n",
       "    </tr>\n",
       "    <tr>\n",
       "      <th>2018-12-01</th>\n",
       "      <td>15.1</td>\n",
       "      <td>Canadian Pacific</td>\n",
       "      <td>System-wide</td>\n",
       "    </tr>\n",
       "    <tr>\n",
       "      <th>2018-12-01</th>\n",
       "      <td>17.2</td>\n",
       "      <td>Burlington Northern Santa Fe</td>\n",
       "      <td>System-wide</td>\n",
       "    </tr>\n",
       "    <tr>\n",
       "      <th>2018-12-08</th>\n",
       "      <td>19.7</td>\n",
       "      <td>Canadian National</td>\n",
       "      <td>System-wide</td>\n",
       "    </tr>\n",
       "    <tr>\n",
       "      <th>2018-12-08</th>\n",
       "      <td>16.9</td>\n",
       "      <td>Canadian Pacific</td>\n",
       "      <td>System-wide</td>\n",
       "    </tr>\n",
       "    <tr>\n",
       "      <th>2018-12-08</th>\n",
       "      <td>13.1</td>\n",
       "      <td>Burlington Northern Santa Fe</td>\n",
       "      <td>System-wide</td>\n",
       "    </tr>\n",
       "    <tr>\n",
       "      <th>2018-12-15</th>\n",
       "      <td>19.4</td>\n",
       "      <td>Canadian National</td>\n",
       "      <td>System-wide</td>\n",
       "    </tr>\n",
       "    <tr>\n",
       "      <th>2018-12-15</th>\n",
       "      <td>16.4</td>\n",
       "      <td>Canadian Pacific</td>\n",
       "      <td>System-wide</td>\n",
       "    </tr>\n",
       "    <tr>\n",
       "      <th>2018-12-15</th>\n",
       "      <td>20.6</td>\n",
       "      <td>Burlington Northern Santa Fe</td>\n",
       "      <td>System-wide</td>\n",
       "    </tr>\n",
       "    <tr>\n",
       "      <th>2018-12-22</th>\n",
       "      <td>19.4</td>\n",
       "      <td>Canadian National</td>\n",
       "      <td>System-wide</td>\n",
       "    </tr>\n",
       "    <tr>\n",
       "      <th>2018-12-22</th>\n",
       "      <td>19.3</td>\n",
       "      <td>Canadian Pacific</td>\n",
       "      <td>System-wide</td>\n",
       "    </tr>\n",
       "    <tr>\n",
       "      <th>2018-12-22</th>\n",
       "      <td>31.8</td>\n",
       "      <td>Burlington Northern Santa Fe</td>\n",
       "      <td>System-wide</td>\n",
       "    </tr>\n",
       "    <tr>\n",
       "      <th>2018-12-29</th>\n",
       "      <td>16.8</td>\n",
       "      <td>Canadian National</td>\n",
       "      <td>System-wide</td>\n",
       "    </tr>\n",
       "    <tr>\n",
       "      <th>2018-12-29</th>\n",
       "      <td>17.0</td>\n",
       "      <td>Canadian Pacific</td>\n",
       "      <td>System-wide</td>\n",
       "    </tr>\n",
       "    <tr>\n",
       "      <th>2018-12-29</th>\n",
       "      <td>17.3</td>\n",
       "      <td>Burlington Northern Santa Fe</td>\n",
       "      <td>System-wide</td>\n",
       "    </tr>\n",
       "    <tr>\n",
       "      <th>2019-01-05</th>\n",
       "      <td>15.7</td>\n",
       "      <td>Canadian National</td>\n",
       "      <td>System-wide</td>\n",
       "    </tr>\n",
       "    <tr>\n",
       "      <th>2019-01-05</th>\n",
       "      <td>16.6</td>\n",
       "      <td>Canadian Pacific</td>\n",
       "      <td>System-wide</td>\n",
       "    </tr>\n",
       "  </tbody>\n",
       "</table>\n",
       "</div>"
      ],
      "text/plain": [
       "            Terminal dwell-time                       Company     Location\n",
       "REF_DATE                                                                  \n",
       "2018-11-24                 18.6             Canadian National  System-wide\n",
       "2018-11-24                 15.9              Canadian Pacific  System-wide\n",
       "2018-11-24                 15.0  Burlington Northern Santa Fe  System-wide\n",
       "2018-12-01                 19.4             Canadian National  System-wide\n",
       "2018-12-01                 15.1              Canadian Pacific  System-wide\n",
       "2018-12-01                 17.2  Burlington Northern Santa Fe  System-wide\n",
       "2018-12-08                 19.7             Canadian National  System-wide\n",
       "2018-12-08                 16.9              Canadian Pacific  System-wide\n",
       "2018-12-08                 13.1  Burlington Northern Santa Fe  System-wide\n",
       "2018-12-15                 19.4             Canadian National  System-wide\n",
       "2018-12-15                 16.4              Canadian Pacific  System-wide\n",
       "2018-12-15                 20.6  Burlington Northern Santa Fe  System-wide\n",
       "2018-12-22                 19.4             Canadian National  System-wide\n",
       "2018-12-22                 19.3              Canadian Pacific  System-wide\n",
       "2018-12-22                 31.8  Burlington Northern Santa Fe  System-wide\n",
       "2018-12-29                 16.8             Canadian National  System-wide\n",
       "2018-12-29                 17.0              Canadian Pacific  System-wide\n",
       "2018-12-29                 17.3  Burlington Northern Santa Fe  System-wide\n",
       "2019-01-05                 15.7             Canadian National  System-wide\n",
       "2019-01-05                 16.6              Canadian Pacific  System-wide"
      ]
     },
     "execution_count": 17,
     "metadata": {},
     "output_type": "execute_result"
    }
   ],
   "source": [
    "rail_system_wide.head(20)"
   ]
  },
  {
   "cell_type": "markdown",
   "metadata": {},
   "source": [
    "## Canada Pacific"
   ]
  },
  {
   "cell_type": "code",
   "execution_count": 11,
   "metadata": {},
   "outputs": [
    {
     "data": {
      "text/html": [
       "<div>\n",
       "<style scoped>\n",
       "    .dataframe tbody tr th:only-of-type {\n",
       "        vertical-align: middle;\n",
       "    }\n",
       "\n",
       "    .dataframe tbody tr th {\n",
       "        vertical-align: top;\n",
       "    }\n",
       "\n",
       "    .dataframe thead th {\n",
       "        text-align: right;\n",
       "    }\n",
       "</style>\n",
       "<table border=\"1\" class=\"dataframe\">\n",
       "  <thead>\n",
       "    <tr style=\"text-align: right;\">\n",
       "      <th></th>\n",
       "      <th>Terminal dwell-time</th>\n",
       "      <th>Company</th>\n",
       "      <th>Location</th>\n",
       "    </tr>\n",
       "    <tr>\n",
       "      <th>REF_DATE</th>\n",
       "      <th></th>\n",
       "      <th></th>\n",
       "      <th></th>\n",
       "    </tr>\n",
       "  </thead>\n",
       "  <tbody>\n",
       "    <tr>\n",
       "      <th>2018-11-24</th>\n",
       "      <td>15.9</td>\n",
       "      <td>Canadian Pacific</td>\n",
       "      <td>System-wide</td>\n",
       "    </tr>\n",
       "    <tr>\n",
       "      <th>2018-12-01</th>\n",
       "      <td>15.1</td>\n",
       "      <td>Canadian Pacific</td>\n",
       "      <td>System-wide</td>\n",
       "    </tr>\n",
       "    <tr>\n",
       "      <th>2018-12-08</th>\n",
       "      <td>16.9</td>\n",
       "      <td>Canadian Pacific</td>\n",
       "      <td>System-wide</td>\n",
       "    </tr>\n",
       "    <tr>\n",
       "      <th>2018-12-15</th>\n",
       "      <td>16.4</td>\n",
       "      <td>Canadian Pacific</td>\n",
       "      <td>System-wide</td>\n",
       "    </tr>\n",
       "  </tbody>\n",
       "</table>\n",
       "</div>"
      ],
      "text/plain": [
       "            Terminal dwell-time           Company     Location\n",
       "REF_DATE                                                      \n",
       "2018-11-24                 15.9  Canadian Pacific  System-wide\n",
       "2018-12-01                 15.1  Canadian Pacific  System-wide\n",
       "2018-12-08                 16.9  Canadian Pacific  System-wide\n",
       "2018-12-15                 16.4  Canadian Pacific  System-wide"
      ]
     },
     "execution_count": 11,
     "metadata": {},
     "output_type": "execute_result"
    }
   ],
   "source": [
    "cp_system_wide = rail_system_wide.query(\"Company =='Canadian Pacific'\")\n",
    "cp_system_wide.head(4)"
   ]
  },
  {
   "cell_type": "code",
   "execution_count": 12,
   "metadata": {},
   "outputs": [
    {
     "data": {
      "text/plain": [
       "<matplotlib.axes._subplots.AxesSubplot at 0x26cb173a390>"
      ]
     },
     "execution_count": 12,
     "metadata": {},
     "output_type": "execute_result"
    },
    {
     "data": {
      "image/png": "[encoded data removed]",
      "text/plain": [
       "<Figure size 432x288 with 1 Axes>"
      ]
     },
     "metadata": {
      "needs_background": "light"
     },
     "output_type": "display_data"
    }
   ],
   "source": [
    "cp_system_wide.plot()"
   ]
  },
  {
   "cell_type": "code",
   "execution_count": 18,
   "metadata": {},
   "outputs": [
    {
     "data": {
      "application/javascript": [
       "\n",
       "// Ugly hack - see HoloViews #2574 for more information\n",
       "if (!(document.getElementById('1274')) && !(document.getElementById('_anim_imgNone'))) {\n",
       "  console.log(\"Creating DOM nodes dynamically for assumed nbconvert export. To generate clean HTML output set HV_DOC_HTML as an environment variable.\")\n",
       "  var htmlObject = document.createElement('div');\n",
       "  htmlObject.innerHTML = `<div id='1274' style='display: table; margin: 0 auto;'>\n",
       "\n",
       "\n",
       "\n",
       "\n",
       "\n",
       "  <div class=\"bk-root\" id=\"c7a85c1c-ce95-47e6-bf35-f5ca544da8c9\" data-root-id=\"1274\"></div>\n",
       "</div>`;\n",
       "  var scriptTags = document.getElementsByTagName('script');\n",
       "  var parentTag = scriptTags[scriptTags.length-1].parentNode;\n",
       "  if (parentTag.attributes.length && (parentTag.attributes[0].name == 'data-shell-mode')) {\n",
       "    alert('Displaying PyViz objects in JupyterLab requires the jupyterlab_pyviz extension to be installed, install it with:\\n\\n\\tjupyter labextension install @pyviz/jupyterlab_pyviz');\n",
       "  } else {\n",
       "    parentTag.append(htmlObject)\n",
       "  }\n",
       "}\n",
       "(function(root) {\n",
       "  function embed_document(root) {\n",
       "    \n",
       "  var docs_json = {\"0af5f0c8-bec3-49f0-a433-fa5527ccfb48\":{\"roots\":{\"references\":[{\"attributes\":{\"below\":[{\"id\":\"1283\",\"type\":\"CategoricalAxis\"}],\"center\":[{\"id\":\"1286\",\"type\":\"Grid\"},{\"id\":\"1291\",\"type\":\"Grid\"}],\"left\":[{\"id\":\"1287\",\"type\":\"LinearAxis\"}],\"margin\":null,\"min_border_bottom\":10,\"min_border_left\":10,\"min_border_right\":10,\"min_border_top\":10,\"plot_height\":300,\"plot_width\":700,\"renderers\":[{\"id\":\"1310\",\"type\":\"GlyphRenderer\"}],\"sizing_mode\":\"fixed\",\"title\":{\"id\":\"1275\",\"type\":\"Title\"},\"toolbar\":{\"id\":\"1297\",\"type\":\"Toolbar\"},\"x_range\":{\"id\":\"1271\",\"type\":\"FactorRange\"},\"x_scale\":{\"id\":\"1279\",\"type\":\"CategoricalScale\"},\"y_range\":{\"id\":\"1272\",\"type\":\"Range1d\"},\"y_scale\":{\"id\":\"1281\",\"type\":\"LinearScale\"}},\"id\":\"1274\",\"subtype\":\"Figure\",\"type\":\"Plot\"},{\"attributes\":{\"axis_label\":\"REF_DATE\",\"bounds\":\"auto\",\"formatter\":{\"id\":\"1313\",\"type\":\"CategoricalTickFormatter\"},\"major_label_orientation\":\"horizontal\",\"ticker\":{\"id\":\"1284\",\"type\":\"CategoricalTicker\"}},\"id\":\"1283\",\"type\":\"CategoricalAxis\"},{\"attributes\":{\"source\":{\"id\":\"1304\",\"type\":\"ColumnDataSource\"}},\"id\":\"1311\",\"type\":\"CDSView\"},{\"attributes\":{},\"id\":\"1284\",\"type\":\"CategoricalTicker\"},{\"attributes\":{\"grid_line_color\":{\"value\":null},\"ticker\":{\"id\":\"1284\",\"type\":\"CategoricalTicker\"}},\"id\":\"1286\",\"type\":\"Grid\"},{\"attributes\":{},\"id\":\"1322\",\"type\":\"UnionRenderers\"},{\"attributes\":{\"text\":\"\",\"text_color\":{\"value\":\"black\"},\"text_font_size\":{\"value\":\"12pt\"}},\"id\":\"1275\",\"type\":\"Title\"},{\"attributes\":{\"axis_label\":\"Terminal dwell-time\",\"bounds\":\"auto\",\"formatter\":{\"id\":\"1315\",\"type\":\"BasicTickFormatter\"},\"major_label_orientation\":\"horizontal\",\"ticker\":{\"id\":\"1288\",\"type\":\"BasicTicker\"}},\"id\":\"1287\",\"type\":\"LinearAxis\"},{\"attributes\":{\"callback\":null,\"data\":{\"REF_DATE\":[\"2018-11-24\",\"2018-12-01\",\"2018-12-08\",\"2018-12-15\",\"2018-12-22\",\"2018-12-29\",\"2019-01-05\",\"2019-01-12\",\"2019-01-19\",\"2019-01-26\",\"2019-02-02\",\"2019-02-09\",\"2019-02-16\",\"2019-02-23\",\"2019-03-02\",\"2019-03-09\",\"2019-03-16\",\"2019-03-23\",\"2019-03-30\"],\"Terminal dwell-time\":{\"__ndarray__\":\"zczMzMzML0AzMzMzMzMuQGZmZmZm5jBAZmZmZmZmMEDNzMzMzEwzQAAAAAAAADFAmpmZmZmZMEAzMzMzMzMxQJqZmZmZGTNAzczMzMxMNECamZmZmRk4QM3MzMzMzDlAzczMzMxMOUAzMzMzMzM4QGZmZmZmZjpAmpmZmZmZN0BmZmZmZmY2QJqZmZmZGTVAmpmZmZkZM0A=\",\"dtype\":\"float64\",\"shape\":[19]},\"Terminal_dwell_hyphen_minus_time\":{\"__ndarray__\":\"zczMzMzML0AzMzMzMzMuQGZmZmZm5jBAZmZmZmZmMEDNzMzMzEwzQAAAAAAAADFAmpmZmZmZMEAzMzMzMzMxQJqZmZmZGTNAzczMzMxMNECamZmZmRk4QM3MzMzMzDlAzczMzMxMOUAzMzMzMzM4QGZmZmZmZjpAmpmZmZmZN0BmZmZmZmY2QJqZmZmZGTVAmpmZmZkZM0A=\",\"dtype\":\"float64\",\"shape\":[19]}},\"selected\":{\"id\":\"1305\",\"type\":\"Selection\"},\"selection_policy\":{\"id\":\"1322\",\"type\":\"UnionRenderers\"}},\"id\":\"1304\",\"type\":\"ColumnDataSource\"},{\"attributes\":{\"bottom_units\":\"screen\",\"fill_alpha\":{\"value\":0.5},\"fill_color\":{\"value\":\"lightgrey\"},\"left_units\":\"screen\",\"level\":\"overlay\",\"line_alpha\":{\"value\":1.0},\"line_color\":{\"value\":\"black\"},\"line_dash\":[4,4],\"line_width\":{\"value\":2},\"render_mode\":\"css\",\"right_units\":\"screen\",\"top_units\":\"screen\"},\"id\":\"1321\",\"type\":\"BoxAnnotation\"},{\"attributes\":{},\"id\":\"1288\",\"type\":\"BasicTicker\"},{\"attributes\":{\"callback\":null,\"renderers\":[{\"id\":\"1310\",\"type\":\"GlyphRenderer\"}],\"tooltips\":[[\"REF_DATE\",\"@{REF_DATE}\"],[\"Terminal dwell-time\",\"@{Terminal_dwell_hyphen_minus_time}\"]]},\"id\":\"1273\",\"type\":\"HoverTool\"},{\"attributes\":{\"dimension\":1,\"grid_line_color\":{\"value\":null},\"ticker\":{\"id\":\"1288\",\"type\":\"BasicTicker\"}},\"id\":\"1291\",\"type\":\"Grid\"},{\"attributes\":{},\"id\":\"1313\",\"type\":\"CategoricalTickFormatter\"},{\"attributes\":{},\"id\":\"1315\",\"type\":\"BasicTickFormatter\"},{\"attributes\":{\"active_drag\":\"auto\",\"active_inspect\":\"auto\",\"active_multi\":null,\"active_scroll\":\"auto\",\"active_tap\":\"auto\",\"tools\":[{\"id\":\"1273\",\"type\":\"HoverTool\"},{\"id\":\"1292\",\"type\":\"SaveTool\"},{\"id\":\"1293\",\"type\":\"PanTool\"},{\"id\":\"1294\",\"type\":\"WheelZoomTool\"},{\"id\":\"1295\",\"type\":\"BoxZoomTool\"},{\"id\":\"1296\",\"type\":\"ResetTool\"}]},\"id\":\"1297\",\"type\":\"Toolbar\"},{\"attributes\":{},\"id\":\"1292\",\"type\":\"SaveTool\"},{\"attributes\":{},\"id\":\"1293\",\"type\":\"PanTool\"},{\"attributes\":{},\"id\":\"1294\",\"type\":\"WheelZoomTool\"},{\"attributes\":{\"overlay\":{\"id\":\"1321\",\"type\":\"BoxAnnotation\"}},\"id\":\"1295\",\"type\":\"BoxZoomTool\"},{\"attributes\":{},\"id\":\"1296\",\"type\":\"ResetTool\"},{\"attributes\":{\"callback\":null,\"factors\":[\"2018-11-24\",\"2018-12-01\",\"2018-12-08\",\"2018-12-15\",\"2018-12-22\",\"2018-12-29\",\"2019-01-05\",\"2019-01-12\",\"2019-01-19\",\"2019-01-26\",\"2019-02-02\",\"2019-02-09\",\"2019-02-16\",\"2019-02-23\",\"2019-03-02\",\"2019-03-09\",\"2019-03-16\",\"2019-03-23\",\"2019-03-30\"],\"tags\":[[[\"REF_DATE\",\"REF_DATE\",null]]]},\"id\":\"1271\",\"type\":\"FactorRange\"},{\"attributes\":{\"line_color\":\"#1f77b4\",\"line_width\":2,\"x\":{\"field\":\"REF_DATE\"},\"y\":{\"field\":\"Terminal dwell-time\"}},\"id\":\"1307\",\"type\":\"Line\"},{\"attributes\":{\"line_alpha\":0.1,\"line_color\":\"#1f77b4\",\"line_width\":2,\"x\":{\"field\":\"REF_DATE\"},\"y\":{\"field\":\"Terminal dwell-time\"}},\"id\":\"1308\",\"type\":\"Line\"},{\"attributes\":{\"line_alpha\":0.2,\"line_color\":\"#1f77b4\",\"line_width\":2,\"x\":{\"field\":\"REF_DATE\"},\"y\":{\"field\":\"Terminal dwell-time\"}},\"id\":\"1309\",\"type\":\"Line\"},{\"attributes\":{},\"id\":\"1279\",\"type\":\"CategoricalScale\"},{\"attributes\":{\"data_source\":{\"id\":\"1304\",\"type\":\"ColumnDataSource\"},\"glyph\":{\"id\":\"1307\",\"type\":\"Line\"},\"hover_glyph\":null,\"muted_glyph\":{\"id\":\"1309\",\"type\":\"Line\"},\"nonselection_glyph\":{\"id\":\"1308\",\"type\":\"Line\"},\"selection_glyph\":null,\"view\":{\"id\":\"1311\",\"type\":\"CDSView\"}},\"id\":\"1310\",\"type\":\"GlyphRenderer\"},{\"attributes\":{},\"id\":\"1281\",\"type\":\"LinearScale\"},{\"attributes\":{\"callback\":null,\"end\":26.4,\"reset_end\":26.4,\"reset_start\":15.1,\"start\":15.1,\"tags\":[[[\"Terminal dwell-time\",\"Terminal dwell-time\",null]]]},\"id\":\"1272\",\"type\":\"Range1d\"},{\"attributes\":{},\"id\":\"1305\",\"type\":\"Selection\"}],\"root_ids\":[\"1274\"]},\"title\":\"Bokeh Application\",\"version\":\"1.1.0\"}};\n",
       "  var render_items = [{\"docid\":\"0af5f0c8-bec3-49f0-a433-fa5527ccfb48\",\"roots\":{\"1274\":\"c7a85c1c-ce95-47e6-bf35-f5ca544da8c9\"}}];\n",
       "  root.Bokeh.embed.embed_items_notebook(docs_json, render_items);\n",
       "\n",
       "  }\n",
       "  if (root.Bokeh !== undefined) {\n",
       "    embed_document(root);\n",
       "  } else {\n",
       "    var attempts = 0;\n",
       "    var timer = setInterval(function(root) {\n",
       "      if (root.Bokeh !== undefined) {\n",
       "        embed_document(root);\n",
       "        clearInterval(timer);\n",
       "      }\n",
       "      attempts++;\n",
       "      if (attempts > 100) {\n",
       "        console.log(\"Bokeh: ERROR: Unable to run BokehJS code because BokehJS library is missing\");\n",
       "        clearInterval(timer);\n",
       "      }\n",
       "    }, 10, root)\n",
       "  }\n",
       "})(window);"
      ],
      "application/vnd.holoviews_exec.v0+json": "",
      "text/html": [
       "<div id='1274' style='display: table; margin: 0 auto;'>\n",
       "\n",
       "\n",
       "\n",
       "\n",
       "\n",
       "  <div class=\"bk-root\" id=\"c7a85c1c-ce95-47e6-bf35-f5ca544da8c9\" data-root-id=\"1274\"></div>\n",
       "</div>"
      ],
      "text/plain": [
       ":Curve   [REF_DATE]   (Terminal dwell-time)"
      ]
     },
     "execution_count": 18,
     "metadata": {
      "application/vnd.holoviews_exec.v0+json": {
       "id": "1274"
      }
     },
     "output_type": "execute_result"
    }
   ],
   "source": [
    "import hvplot.pandas\n",
    "cp_system_wide[['Terminal dwell-time']].hvplot()"
   ]
  },
  {
   "cell_type": "markdown",
   "metadata": {},
   "source": [
    "## By Company"
   ]
  },
  {
   "cell_type": "code",
   "execution_count": null,
   "metadata": {},
   "outputs": [],
   "source": [
    "by_company = rail_system_wide.groupby('Company').max()"
   ]
  },
  {
   "cell_type": "code",
   "execution_count": null,
   "metadata": {},
   "outputs": [],
   "source": [
    "by_company"
   ]
  },
  {
   "cell_type": "code",
   "execution_count": null,
   "metadata": {},
   "outputs": [],
   "source": [
    "rail_data.index.dtype"
   ]
  },
  {
   "cell_type": "code",
   "execution_count": null,
   "metadata": {},
   "outputs": [],
   "source": []
  }
 ],
 "metadata": {
  "kernelspec": {
   "display_name": "Python (pyviz)",
   "language": "python",
   "name": "pyviz"
  },
  "language_info": {
   "codemirror_mode": {
    "name": "ipython",
    "version": 3
   },
   "file_extension": ".py",
   "mimetype": "text/x-python",
   "name": "python",
   "nbconvert_exporter": "python",
   "pygments_lexer": "ipython3",
   "version": "3.6.8"
  }
 },
 "nbformat": 4,
 "nbformat_minor": 2
}
