{
 "cells": [
  {
   "cell_type": "markdown",
   "metadata": {},
   "source": [
    "# Retail Sales"
   ]
  },
  {
   "cell_type": "code",
   "execution_count": 1,
   "metadata": {},
   "outputs": [],
   "source": [
    "import numpy as np\n",
    "import pandas as pd\n",
    "import requests, zipfile, io\n",
    "import re\n",
    "import os"
   ]
  },
  {
   "cell_type": "code",
   "execution_count": 2,
   "metadata": {},
   "outputs": [
    {
     "ename": "ModuleNotFoundError",
     "evalue": "No module named 'environs'",
     "output_type": "error",
     "traceback": [
      "\u001b[1;31m---------------------------------------------------------------------------\u001b[0m",
      "\u001b[1;31mModuleNotFoundError\u001b[0m                       Traceback (most recent call last)",
      "\u001b[1;32m<ipython-input-2-ef5d40c208de>\u001b[0m in \u001b[0;36m<module>\u001b[1;34m()\u001b[0m\n\u001b[0;32m      9\u001b[0m \u001b[0msys\u001b[0m\u001b[1;33m.\u001b[0m\u001b[0mpath\u001b[0m\u001b[1;33m.\u001b[0m\u001b[0mappend\u001b[0m\u001b[1;33m(\u001b[0m\u001b[1;34m'..'\u001b[0m\u001b[1;33m)\u001b[0m\u001b[1;33m\u001b[0m\u001b[0m\n\u001b[0;32m     10\u001b[0m \u001b[1;33m\u001b[0m\u001b[0m\n\u001b[1;32m---> 11\u001b[1;33m \u001b[1;32mfrom\u001b[0m \u001b[0mcanadadata\u001b[0m\u001b[1;33m.\u001b[0m\u001b[0mstatscan\u001b[0m \u001b[1;32mimport\u001b[0m \u001b[0mto_wide_format\u001b[0m\u001b[1;33m,\u001b[0m \u001b[0mread_statscan_csv\u001b[0m\u001b[1;33m,\u001b[0m \u001b[0mStatscanDataset\u001b[0m\u001b[1;33m\u001b[0m\u001b[0m\n\u001b[0m\u001b[0;32m     12\u001b[0m \u001b[1;32mfrom\u001b[0m \u001b[0mcanadadata\u001b[0m\u001b[1;33m.\u001b[0m\u001b[0mio\u001b[0m \u001b[1;32mimport\u001b[0m \u001b[0munzip_data\u001b[0m\u001b[1;33m\u001b[0m\u001b[0m\n",
      "\u001b[1;32mD:\\Projects\\canadadata\\canadadata\\statscan.py\u001b[0m in \u001b[0;36m<module>\u001b[1;34m()\u001b[0m\n\u001b[0;32m      5\u001b[0m \u001b[1;32mfrom\u001b[0m \u001b[0mfunctools\u001b[0m \u001b[1;32mimport\u001b[0m \u001b[0mlru_cache\u001b[0m\u001b[1;33m\u001b[0m\u001b[0m\n\u001b[0;32m      6\u001b[0m \u001b[1;32mfrom\u001b[0m \u001b[1;33m.\u001b[0m\u001b[0mio\u001b[0m \u001b[1;32mimport\u001b[0m \u001b[0munzip_data\u001b[0m\u001b[1;33m\u001b[0m\u001b[0m\n\u001b[1;32m----> 7\u001b[1;33m \u001b[1;32mfrom\u001b[0m \u001b[1;33m.\u001b[0m\u001b[0mconfig\u001b[0m \u001b[1;32mimport\u001b[0m \u001b[0mCACHE_DIR\u001b[0m\u001b[1;33m\u001b[0m\u001b[0m\n\u001b[0m\u001b[0;32m      8\u001b[0m \u001b[1;33m\u001b[0m\u001b[0m\n\u001b[0;32m      9\u001b[0m \u001b[1;33m\u001b[0m\u001b[0m\n",
      "\u001b[1;32mD:\\Projects\\canadadata\\canadadata\\config.py\u001b[0m in \u001b[0;36m<module>\u001b[1;34m()\u001b[0m\n\u001b[1;32m----> 1\u001b[1;33m \u001b[1;32mfrom\u001b[0m \u001b[0menvirons\u001b[0m \u001b[1;32mimport\u001b[0m \u001b[0mEnv\u001b[0m\u001b[1;33m,\u001b[0m \u001b[0mEnvError\u001b[0m\u001b[1;33m\u001b[0m\u001b[0m\n\u001b[0m\u001b[0;32m      2\u001b[0m \u001b[1;32mimport\u001b[0m \u001b[0mlogging\u001b[0m\u001b[1;33m\u001b[0m\u001b[0m\n\u001b[0;32m      3\u001b[0m \u001b[1;33m\u001b[0m\u001b[0m\n\u001b[0;32m      4\u001b[0m \u001b[0m_env\u001b[0m \u001b[1;33m=\u001b[0m \u001b[0mEnv\u001b[0m\u001b[1;33m(\u001b[0m\u001b[1;33m)\u001b[0m\u001b[1;33m\u001b[0m\u001b[0m\n\u001b[0;32m      5\u001b[0m \u001b[0m_env\u001b[0m\u001b[1;33m.\u001b[0m\u001b[0mread_env\u001b[0m\u001b[1;33m(\u001b[0m\u001b[1;33m)\u001b[0m\u001b[1;33m\u001b[0m\u001b[0m\n",
      "\u001b[1;31mModuleNotFoundError\u001b[0m: No module named 'environs'"
     ]
    }
   ],
   "source": [
    "%load_ext autoreload\n",
    "%autoreload 2\n",
    "pd.set_option('display.max_colwidth', 200)\n",
    "pd.set_option('display.max_columns', 200)\n",
    "\n",
    "data_dir = '../data'\n",
    "cache_dir = os.path.join(data_dir, 'cache')\n",
    "import sys\n",
    "sys.path.append('..')\n",
    "\n",
    "from canadadata.statscan import to_wide_format, read_statscan_csv, StatscanDataset\n",
    "from canadadata.io import unzip_data"
   ]
  },
  {
   "cell_type": "code",
   "execution_count": null,
   "metadata": {},
   "outputs": [],
   "source": [
    "retail_sales_dataset = StatscanDataset('https://www150.statcan.gc.ca/n1/tbl/csv/20100072-eng.zip', \n",
    "                                        pivot_column='Sales')\n",
    "retail_sales = retail_sales_dataset.get_wide_data(cache_dir=cache_dir, index_col='REF_DATE')\n",
    "retail_sales.index = pd.to_datetime(retail_sales.index)\n",
    "for col in ['Electronic shopping and mail-order houses','Retail E-commerce sales','Retail trade']:\n",
    "    retail_sales[col] = retail_sales[col] / 1000000"
   ]
  },
  {
   "cell_type": "code",
   "execution_count": null,
   "metadata": {},
   "outputs": [],
   "source": [
    "import matplotlib.pyplot as plt\n",
    "import matplotlib.style as style\n",
    "from matplotlib import rcParams\n",
    "\n",
    "style.use('fivethirtyeight')\n",
    "%matplotlib inline\n",
    "\n",
    "def retail_chart():\n",
    "    ax = retail_sales[['Retail trade']].plot.bar(figsize=(12,9), stacked=True, grid=False, label=False, legend=False)\n",
    "    ax.set_xticklabels(retail_sales.index.strftime('%b').tolist(), fontsize=13);\n",
    "    ax.set_title('Canada Retail Sales 2016-2018', fontsize=18)\n",
    "    ax.set_xlabel('');\n",
    "    ax.set_ylabel('$ B', fontsize=14);\n",
    "    ax.yaxis.set_tick_params(labelsize=14)\n",
    "    ax.text(x=30, y=61, s='Source: Statscan',fontsize=8)\n",
    "    ax.set_ylim((0,60))\n",
    "    \n",
    "def retail_sales_by_source():\n",
    "    ax = retail_sales.plot.bar(figsize=(12,9), stacked=True, grid=False, label=False, legend=False)\n",
    "    ax.set_xticklabels(retail_sales.index.strftime('%b').tolist(), fontsize=13);\n",
    "    ax.set_title('Canada Retail Sales 2016-2018', fontsize=18)\n",
    "    ax.set_xlabel('');\n",
    "    ax.set_ylabel('$ B', fontsize=14);\n",
    "    ax.yaxis.set_tick_params(labelsize=14)\n",
    "    ax.text(x=30, y=61, s='Source: Statscan',fontsize=8)\n",
    "    ax.set_ylim((0,60))\n",
    "\n",
    "retail_chart()\n",
    "retail_sales_by_source()"
   ]
  },
  {
   "cell_type": "code",
   "execution_count": null,
   "metadata": {},
   "outputs": [],
   "source": [
    "retail_sales"
   ]
  },
  {
   "cell_type": "code",
   "execution_count": null,
   "metadata": {},
   "outputs": [],
   "source": []
  }
 ],
 "metadata": {
  "kernelspec": {
   "display_name": "venv (canadadata)",
   "language": "python",
   "name": "canadadata"
  },
  "language_info": {
   "codemirror_mode": {
    "name": "ipython",
    "version": 3
   },
   "file_extension": ".py",
   "mimetype": "text/x-python",
   "name": "python",
   "nbconvert_exporter": "python",
   "pygments_lexer": "ipython3",
   "version": "3.7.0"
  }
 },
 "nbformat": 4,
 "nbformat_minor": 2
}
