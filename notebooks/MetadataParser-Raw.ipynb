{
 "cells": [
  {
   "cell_type": "markdown",
   "metadata": {},
   "source": [
    "## Metadata"
   ]
  },
  {
   "cell_type": "code",
   "execution_count": null,
   "metadata": {},
   "outputs": [],
   "source": [
    "import pandas as pd\n",
    "pd.set_option('display.max_rows', 500)"
   ]
  },
  {
   "cell_type": "code",
   "execution_count": null,
   "metadata": {},
   "outputs": [],
   "source": [
    "meta_df = pd.read_csv('../data/cache/11100045_MetaData.csv')\n",
    "meta_df"
   ]
  },
  {
   "cell_type": "markdown",
   "metadata": {},
   "source": [
    "## Meta Info"
   ]
  },
  {
   "cell_type": "code",
   "execution_count": null,
   "metadata": {},
   "outputs": [],
   "source": [
    "meta_info = meta_df.head(1)\n",
    "meta_info"
   ]
  },
  {
   "cell_type": "markdown",
   "metadata": {},
   "source": [
    "## Dimensions"
   ]
  },
  {
   "cell_type": "code",
   "execution_count": null,
   "metadata": {},
   "outputs": [],
   "source": [
    "dimension2_row = meta_df[meta_df['Cube Title'] =='Dimension ID'].tail(1).index.item()\n",
    "dimension1= meta_df.iloc[2:dimension2_row,0:4]   \n",
    "dimension1.columns = ['Dimension ID','Dimension name','Dimension Notes','Dimension Definitions']\n",
    "dimension1"
   ]
  },
  {
   "cell_type": "code",
   "execution_count": null,
   "metadata": {},
   "outputs": [],
   "source": [
    "symbol_row = meta_df[meta_df['Cube Title'] =='Symbol Legend'].index.item()\n",
    "symbol_row"
   ]
  },
  {
   "cell_type": "code",
   "execution_count": null,
   "metadata": {},
   "outputs": [],
   "source": [
    "dimension2 = meta_df.iloc[dimension2_row+1:symbol_row,0:8]\n",
    "dimension2.columns = ['Dimension ID','Member Name','Classification Code','Member ID','Parent Member ID',\n",
    "                      'Terminated','Member Notes','Member Definitions']\n",
    "dimension2"
   ]
  },
  {
   "cell_type": "markdown",
   "metadata": {},
   "source": [
    "## Survey"
   ]
  },
  {
   "cell_type": "code",
   "execution_count": null,
   "metadata": {},
   "outputs": [],
   "source": [
    "survey_row = meta_df[meta_df['Cube Title'] =='Survey Code'].index.item()\n",
    "survey = meta_df.iloc[survey_row+1:survey_row+2,0:2]\n",
    "survey.columns = ['Survey Code', 'Survey Name']\n",
    "survey"
   ]
  },
  {
   "cell_type": "markdown",
   "metadata": {},
   "source": [
    "## Subject "
   ]
  },
  {
   "cell_type": "code",
   "execution_count": null,
   "metadata": {},
   "outputs": [],
   "source": [
    "subject_row = meta_df[meta_df['Cube Title'] =='Subject Code'].index.item()\n",
    "subject = meta_df.iloc[subject_row+1:subject_row+2,0:2]\n",
    "subject.columns = ['Subject Code', 'Subject Name']\n",
    "subject"
   ]
  },
  {
   "cell_type": "markdown",
   "metadata": {},
   "source": [
    "## Notes"
   ]
  },
  {
   "cell_type": "code",
   "execution_count": null,
   "metadata": {},
   "outputs": [],
   "source": [
    "note_row = meta_df[meta_df['Cube Title'] =='Note ID'].index.item()\n",
    "correction_row = meta_df[meta_df['Cube Title'] =='Correction ID'].index.item()\n",
    "\n",
    "note = meta_df.iloc[note_row+1:correction_row,0:2]\n",
    "note.columns = ['Note ID', 'Note']\n",
    "note"
   ]
  },
  {
   "cell_type": "code",
   "execution_count": null,
   "metadata": {},
   "outputs": [],
   "source": [
    "class DatasetMetadata(object):\n",
    "    \n",
    "    def __init__(self, meta_df:pd.DataFrame):\n",
    "        self.meta_info = meta_df.head(1)\n",
    "        \n",
    "        dimension2_row = meta_df[meta_df['Cube Title'] =='Dimension ID'].tail(1).index.item()\n",
    "        self.dimension1 = meta_df.iloc[2:dimension2_row,0:4]   \n",
    "        self.dimension1.columns = ['Dimension ID','Dimension name','Dimension Notes','Dimension Definitions']\n",
    "        \n",
    "        symbol_row = meta_df[meta_df['Cube Title'] =='Symbol Legend'].index.item()\n",
    "        self.dimension2 = meta_df.iloc[dimension2_row+1:symbol_row,0:8]\n",
    "        self.dimension2.columns = ['Dimension ID','Member Name','Classification Code','Member ID','Parent Member ID',\n",
    "                              'Terminated','Member Notes','Member Definitions']\n",
    "        \n",
    "        survey_row = meta_df[meta_df['Cube Title'] =='Survey Code'].index.item()\n",
    "        self.survey = meta_df.iloc[survey_row+1:survey_row+2,0:2]\n",
    "        self.survey.columns = ['Survey Code', 'Survey Name']\n",
    "        \n",
    "        subject_row = meta_df[meta_df['Cube Title'] =='Subject Code'].index.item()\n",
    "        self.subject = meta_df.iloc[subject_row+1:subject_row+2,0:2]\n",
    "        self.subject.columns = ['Subject Code', 'Subject Name']\n",
    "        self.subject = self.subject.set_index('Subject Code')\n",
    "        \n",
    "        note_row = meta_df[meta_df['Cube Title'] =='Note ID'].index.item()\n",
    "        correction_row = meta_df[meta_df['Cube Title'] =='Correction ID'].index.item()\n",
    "\n",
    "        self.note = meta_df.iloc[note_row+1:correction_row,0:2]\n",
    "        self.note.columns = ['Note ID', 'Note']\n",
    "        \n",
    "metadata = DatasetMetadata(meta_df)\n",
    "metadata.subject"
   ]
  },
  {
   "cell_type": "code",
   "execution_count": null,
   "metadata": {},
   "outputs": [],
   "source": []
  }
 ],
 "metadata": {
  "kernelspec": {
   "display_name": "venv (canadadata)",
   "language": "python",
   "name": "canadadata"
  },
  "language_info": {
   "codemirror_mode": {
    "name": "ipython",
    "version": 3
   },
   "file_extension": ".py",
   "mimetype": "text/x-python",
   "name": "python",
   "nbconvert_exporter": "python",
   "pygments_lexer": "ipython3",
   "version": "3.7.0"
  }
 },
 "nbformat": 4,
 "nbformat_minor": 2
}
