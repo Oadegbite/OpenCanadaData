{
 "cells": [
  {
   "cell_type": "markdown",
   "metadata": {},
   "source": [
    "# Repo"
   ]
  },
  {
   "cell_type": "code",
   "execution_count": 8,
   "metadata": {},
   "outputs": [],
   "source": [
    "import sys\n",
    "sys.path.append('..')"
   ]
  },
  {
   "cell_type": "code",
   "execution_count": 12,
   "metadata": {},
   "outputs": [
    {
     "data": {
      "text/plain": [
       "Repo at D:\\Projects\\canadadata\\notebooks\\scratch\\repo"
      ]
     },
     "execution_count": 12,
     "metadata": {},
     "output_type": "execute_result"
    }
   ],
   "source": [
    "from pathlib import Path\n",
    "\n",
    "class Repo():\n",
    "\n",
    "    def __init__(self, path:str):\n",
    "        _path = Path(path).resolve()\n",
    "        self.repo =  _path / 'repo'\n",
    "        self.ensure_dirs(self.repo)\n",
    "        \n",
    "    def ensure_dirs(self, root):\n",
    "        self.repo.mkdir(exist_ok = True)\n",
    "        self.downloaded = self.repo / 'downloaded'\n",
    "        self.downloaded.mkdir(exist_ok = True)\n",
    "        self.extracted = self.repo / 'extracted'\n",
    "        self.extracted.mkdir(exist_ok = True)\n",
    "        self.dataset = self.repo / 'dataset'\n",
    "        self.dataset.mkdir(exist_ok = True)\n",
    "        \n",
    "    \n",
    "    @classmethod\n",
    "    def here(cls):\n",
    "        return cls(path='.')\n",
    "    \n",
    "    @classmethod\n",
    "    def at_user_home(cls):\n",
    "        pass\n",
    "        \n",
    "    def __repr__(self):\n",
    "        return f'Repo at {self.repo}'\n",
    "        \n",
    "repo = Repo.here()\n",
    "repo"
   ]
  },
  {
   "cell_type": "code",
   "execution_count": 7,
   "metadata": {},
   "outputs": [
    {
     "data": {
      "text/plain": [
       "WindowsPath('C:/Users/dwight')"
      ]
     },
     "execution_count": 7,
     "metadata": {},
     "output_type": "execute_result"
    }
   ],
   "source": [
    "Path.home()"
   ]
  },
  {
   "cell_type": "code",
   "execution_count": null,
   "metadata": {},
   "outputs": [],
   "source": []
  }
 ],
 "metadata": {
  "kernelspec": {
   "display_name": "Python (pyviz)",
   "language": "python",
   "name": "pyviz"
  },
  "language_info": {
   "codemirror_mode": {
    "name": "ipython",
    "version": 3
   },
   "file_extension": ".py",
   "mimetype": "text/x-python",
   "name": "python",
   "nbconvert_exporter": "python",
   "pygments_lexer": "ipython3",
   "version": "3.6.8"
  }
 },
 "nbformat": 4,
 "nbformat_minor": 2
}
